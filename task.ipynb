{
 "cells": [
  {
   "cell_type": "code",
   "execution_count": 6,
   "metadata": {},
   "outputs": [],
   "source": [
    "import re\n",
    "from bs4 import BeautifulSoup\n",
    "import requests\n",
    "from lxml import etree"
   ]
  },
  {
   "cell_type": "code",
   "execution_count": 79,
   "metadata": {},
   "outputs": [],
   "source": [
    "url = \"https://terrikon.com/en/worldcup-2022\"\n",
    "headers = {\n",
    "    'User-Agent': 'Mozilla/5.0 (Windows NT 10.0; Win64; x64) AppleWebKit/537.36 (KHTML, like Gecko) Chrome/107.0.0.0 Safari/537.36'\n",
    "}\n",
    "r = requests.get(url,headers=headers)"
   ]
  },
  {
   "cell_type": "code",
   "execution_count": 80,
   "metadata": {},
   "outputs": [
    {
     "data": {
      "text/plain": [
       "['/en/football/teams/290',\n",
       " '/en/football/teams/263',\n",
       " '/en/football/teams/260',\n",
       " '/en/football/teams/349',\n",
       " '/en/football/teams/297',\n",
       " '/en/football/teams/380',\n",
       " '/en/football/teams/295',\n",
       " '/en/football/teams/1284',\n",
       " '/en/football/teams/289',\n",
       " '/en/football/teams/416',\n",
       " '/en/football/teams/1281',\n",
       " '/en/football/teams/531',\n",
       " '/en/football/teams/228',\n",
       " '/en/football/teams/878',\n",
       " '/en/football/teams/131',\n",
       " '/en/football/teams/134',\n",
       " '/en/football/teams/133',\n",
       " '/en/football/teams/1276',\n",
       " '/en/football/teams/233',\n",
       " '/en/football/teams/553',\n",
       " '/en/football/teams/304',\n",
       " '/en/football/teams/148',\n",
       " '/en/football/teams/234',\n",
       " '/en/football/teams/296',\n",
       " '/en/football/teams/301',\n",
       " '/en/football/teams/292',\n",
       " '/en/football/teams/275',\n",
       " '/en/football/teams/320',\n",
       " '/en/football/teams/135',\n",
       " '/en/football/teams/288',\n",
       " '/en/football/teams/74',\n",
       " '/en/football/teams/293']"
      ]
     },
     "execution_count": 80,
     "metadata": {},
     "output_type": "execute_result"
    }
   ],
   "source": [
    "soup = BeautifulSoup(r.text,\"html.parser\")\n",
    "links = soup.find_all('td',class_ = 'team')\n",
    "\n",
    "# print(re.compile(r'^<a.*?href=\"(.*)\">').findall(r.text))\n",
    "# print(re.compile(r'^<a.*?href=\"(.*)\">').findall(str(links)))\n",
    "# <td class=\"team\"><a href=\"/en/football/teams/133\">\n",
    "# <img src=\"//st.terrikon.com/i/flag/s/nl.gif\"/> Netherlands</a></td>\n",
    "# re.compile(r'<a.*?href=\"(.*)\">').findall(str(links))\n",
    "link_list = []\n",
    "for link in links:  \n",
    "    if len(re.compile(r'<a.*?href=\"(.*)\">').findall(str(link))) > 0:\n",
    "        link_list.append((re.compile(r'<a.*?href=\"(.*)\">').findall(str(link)))[0])\n",
    "link_list = list(set(link_list))\n",
    "link_list"
   ]
  },
  {
   "cell_type": "code",
   "execution_count": 81,
   "metadata": {},
   "outputs": [
    {
     "name": "stdout",
     "output_type": "stream",
     "text": [
      "https://terrikon.com/football/teams/290/players\n",
      "https://terrikon.com/football/teams/263/players\n",
      "https://terrikon.com/football/teams/260/players\n",
      "https://terrikon.com/football/teams/349/players\n",
      "https://terrikon.com/football/teams/297/players\n",
      "https://terrikon.com/football/teams/380/players\n",
      "https://terrikon.com/football/teams/295/players\n",
      "https://terrikon.com/football/teams/1284/players\n",
      "https://terrikon.com/football/teams/289/players\n",
      "https://terrikon.com/football/teams/416/players\n",
      "https://terrikon.com/football/teams/1281/players\n",
      "https://terrikon.com/football/teams/531/players\n",
      "https://terrikon.com/football/teams/228/players\n",
      "https://terrikon.com/football/teams/878/players\n",
      "https://terrikon.com/football/teams/131/players\n",
      "https://terrikon.com/football/teams/134/players\n"
     ]
    },
    {
     "ename": "IndexError",
     "evalue": "list index out of range",
     "output_type": "error",
     "traceback": [
      "\u001b[0;31m---------------------------------------------------------------------------\u001b[0m",
      "\u001b[0;31mIndexError\u001b[0m                                Traceback (most recent call last)",
      "\u001b[0;32m/tmp/ipykernel_16760/2250226642.py\u001b[0m in \u001b[0;36m<module>\u001b[0;34m\u001b[0m\n\u001b[1;32m     11\u001b[0m         \u001b[0mplayer\u001b[0m \u001b[0;34m=\u001b[0m \u001b[0;34m{\u001b[0m\u001b[0;34m}\u001b[0m\u001b[0;34m\u001b[0m\u001b[0;34m\u001b[0m\u001b[0m\n\u001b[1;32m     12\u001b[0m         \u001b[0mplayer\u001b[0m\u001b[0;34m.\u001b[0m\u001b[0msetdefault\u001b[0m\u001b[0;34m(\u001b[0m\u001b[0;34m\"jersey_number\"\u001b[0m\u001b[0;34m,\u001b[0m\u001b[0mtr\u001b[0m\u001b[0;34m.\u001b[0m\u001b[0mxpath\u001b[0m\u001b[0;34m(\u001b[0m\u001b[0;34m'./td'\u001b[0m\u001b[0;34m)\u001b[0m\u001b[0;34m[\u001b[0m\u001b[0;36m0\u001b[0m\u001b[0;34m]\u001b[0m\u001b[0;34m.\u001b[0m\u001b[0mtext\u001b[0m\u001b[0;34m)\u001b[0m \u001b[0;31m#1\u001b[0m\u001b[0;34m\u001b[0m\u001b[0;34m\u001b[0m\u001b[0m\n\u001b[0;32m---> 13\u001b[0;31m         \u001b[0mplayer\u001b[0m\u001b[0;34m.\u001b[0m\u001b[0msetdefault\u001b[0m\u001b[0;34m(\u001b[0m\u001b[0;34m\"nationality_name\"\u001b[0m\u001b[0;34m,\u001b[0m\u001b[0mtr\u001b[0m\u001b[0;34m.\u001b[0m\u001b[0mxpath\u001b[0m\u001b[0;34m(\u001b[0m\u001b[0;34m'./td[2]/img/@title'\u001b[0m\u001b[0;34m)\u001b[0m\u001b[0;34m[\u001b[0m\u001b[0;36m0\u001b[0m\u001b[0;34m]\u001b[0m\u001b[0;34m)\u001b[0m \u001b[0;31m#Англия\u001b[0m\u001b[0;34m\u001b[0m\u001b[0;34m\u001b[0m\u001b[0m\n\u001b[0m\u001b[1;32m     14\u001b[0m         \u001b[0mplayer\u001b[0m\u001b[0;34m.\u001b[0m\u001b[0msetdefault\u001b[0m\u001b[0;34m(\u001b[0m\u001b[0;34m\"name\"\u001b[0m\u001b[0;34m,\u001b[0m\u001b[0mtr\u001b[0m\u001b[0;34m.\u001b[0m\u001b[0mxpath\u001b[0m\u001b[0;34m(\u001b[0m\u001b[0;34m'./td[3]/a'\u001b[0m\u001b[0;34m)\u001b[0m\u001b[0;34m[\u001b[0m\u001b[0;36m0\u001b[0m\u001b[0;34m]\u001b[0m\u001b[0;34m.\u001b[0m\u001b[0mtext\u001b[0m\u001b[0;34m)\u001b[0m \u001b[0;31m#Джордан Пикфорд\u001b[0m\u001b[0;34m\u001b[0m\u001b[0;34m\u001b[0m\u001b[0m\n\u001b[1;32m     15\u001b[0m         \u001b[0mplayer\u001b[0m\u001b[0;34m.\u001b[0m\u001b[0msetdefault\u001b[0m\u001b[0;34m(\u001b[0m\u001b[0;34m\"birth\"\u001b[0m\u001b[0;34m,\u001b[0m\u001b[0mtr\u001b[0m\u001b[0;34m.\u001b[0m\u001b[0mxpath\u001b[0m\u001b[0;34m(\u001b[0m\u001b[0;34m'./td'\u001b[0m\u001b[0;34m)\u001b[0m\u001b[0;34m[\u001b[0m\u001b[0;36m4\u001b[0m\u001b[0;34m]\u001b[0m\u001b[0;34m.\u001b[0m\u001b[0mtext\u001b[0m\u001b[0;34m)\u001b[0m\u001b[0;34m\u001b[0m\u001b[0;34m\u001b[0m\u001b[0m\n",
      "\u001b[0;31mIndexError\u001b[0m: list index out of range"
     ]
    }
   ],
   "source": [
    "players_list = []\n",
    "for link in link_list:\n",
    "    player_url = \"https://terrikon.com/football/teams/\" + re.findall(r\"\\d+\",link)[0] +\"/players\"\n",
    "    print(player_url)\n",
    "    page_text = requests.get(player_url,headers=headers).text\n",
    "    tree = etree.HTML(page_text)\n",
    "\n",
    "    trlist = tree.xpath('/html/body/div[2]/div[2]/div[3]/div[3]/table/tr')\n",
    "\n",
    "    for tr in trlist:\n",
    "        player = {}\n",
    "        player.setdefault(\"jersey_number\",tr.xpath('./td')[0].text) #1\n",
    "        if len(tr.xpath('./td[2]/img/@title')) >0:\n",
    "            player.setdefault(\"nationality_name\",tr.xpath('./td[2]/img/@title')[0]) #Англия\n",
    "            temp = tr.xpath('./td[2]/img/@title')[0]\n",
    "        else:\n",
    "            player.setdefault(\"nationality_name\",temp)\n",
    "        player.setdefault(\"name\",tr.xpath('./td[3]/a')[0].text) #Джордан Пикфорд\n",
    "        player.setdefault(\"birth\",tr.xpath('./td')[4].text)\n",
    "        player.setdefault(\"high\",tr.xpath('./td')[5].text)\n",
    "        player.setdefault(\"weight\",tr.xpath('./td')[6].text)\n",
    "        players_list.append(player)\n",
    "len(players_list)"
   ]
  },
  {
   "cell_type": "code",
   "execution_count": 82,
   "metadata": {},
   "outputs": [],
   "source": [
    "\n",
    "player_url = \"https://terrikon.com/football/teams/134/players\"\n",
    "\n",
    "page_text = requests.get(player_url,headers=headers).text\n"
   ]
  },
  {
   "cell_type": "code",
   "execution_count": 92,
   "metadata": {},
   "outputs": [],
   "source": [
    "\n",
    "\n",
    "\n",
    "tree = etree.HTML(page_text)\n",
    "\n",
    "trlist = tree.xpath('/html/body/div[2]/div[2]/div[3]/div[3]/table/tr')\n",
    "\n",
    "for tr in trlist:\n",
    "    player = {}\n",
    "    player.setdefault(\"jersey_number\",tr.xpath('./td')[0].text) #1\n",
    "    if len(tr.xpath('./td[2]/img/@title')) >0:\n",
    "        player.setdefault(\"nationality_name\",tr.xpath('./td[2]/img/@title')[0]) #Англия\n",
    "        temp = tr.xpath('./td[2]/img/@title')[0]\n",
    "    else:\n",
    "        player.setdefault(\"nationality_name\",temp)\n",
    "\n",
    "    player.setdefault(\"name\",tr.xpath('./td[3]/a')[0].text) #Джордан Пикфорд\n",
    "    player.setdefault(\"birth\",tr.xpath('./td')[4].text)\n",
    "    player.setdefault(\"high\",tr.xpath('./td')[5].text)\n",
    "    player.setdefault(\"weight\",tr.xpath('./td')[6].text)\n",
    "    players_list.append(player)\n",
    "\n"
   ]
  },
  {
   "cell_type": "code",
   "execution_count": 96,
   "metadata": {},
   "outputs": [
    {
     "data": {
      "text/plain": [
       "{'jersey_number': '21',\n",
       " 'nationality_name': 'Иран',\n",
       " 'name': 'Ахмад Нуроллахи',\n",
       " 'birth': '01.02.1993',\n",
       " 'high': '185',\n",
       " 'weight': '0'}"
      ]
     },
     "execution_count": 96,
     "metadata": {},
     "output_type": "execute_result"
    }
   ],
   "source": [
    "players_list[-6]"
   ]
  },
  {
   "cell_type": "code",
   "execution_count": 12,
   "metadata": {},
   "outputs": [
    {
     "ename": "ModuleNotFoundError",
     "evalue": "No module named 'google'",
     "output_type": "error",
     "traceback": [
      "\u001b[0;31m---------------------------------------------------------------------------\u001b[0m",
      "\u001b[0;31mModuleNotFoundError\u001b[0m                       Traceback (most recent call last)",
      "\u001b[0;32m/tmp/ipykernel_16760/3142016261.py\u001b[0m in \u001b[0;36m<module>\u001b[0;34m\u001b[0m\n\u001b[0;32m----> 1\u001b[0;31m \u001b[0;32mfrom\u001b[0m \u001b[0mgoogle\u001b[0m\u001b[0;34m.\u001b[0m\u001b[0mcloud\u001b[0m \u001b[0;32mimport\u001b[0m \u001b[0mtranslate\u001b[0m\u001b[0;34m\u001b[0m\u001b[0;34m\u001b[0m\u001b[0m\n\u001b[0m\u001b[1;32m      2\u001b[0m \u001b[0;34m\u001b[0m\u001b[0m\n\u001b[1;32m      3\u001b[0m \u001b[0;31m# Instantiates a client\u001b[0m\u001b[0;34m\u001b[0m\u001b[0;34m\u001b[0m\u001b[0m\n\u001b[1;32m      4\u001b[0m \u001b[0mtranslate_client\u001b[0m \u001b[0;34m=\u001b[0m \u001b[0mtranslate\u001b[0m\u001b[0;34m.\u001b[0m\u001b[0mClient\u001b[0m\u001b[0;34m(\u001b[0m\u001b[0;34m)\u001b[0m\u001b[0;34m\u001b[0m\u001b[0;34m\u001b[0m\u001b[0m\n\u001b[1;32m      5\u001b[0m \u001b[0;34m\u001b[0m\u001b[0m\n",
      "\u001b[0;31mModuleNotFoundError\u001b[0m: No module named 'google'"
     ]
    }
   ],
   "source": [
    "from google.cloud import translate\n",
    "\n",
    "# Instantiates a client\n",
    "translate_client = translate.Client()\n",
    "\n",
    "# The text to translate\n",
    "text = u'Hello, world!'\n",
    "# The target language\n",
    "target = 'ru'\n",
    "\n",
    "# Translates some text into Russian\n",
    "translation = translate_client.translate(\n",
    "    text,\n",
    "    target_language=target)\n",
    "\n",
    "print(u'Text: {}'.format(text))\n",
    "print(u'Translation: {}'.format(translation['translatedText']))"
   ]
  }
 ],
 "metadata": {
  "kernelspec": {
   "display_name": "Python 3.9.13 ('base')",
   "language": "python",
   "name": "python3"
  },
  "language_info": {
   "codemirror_mode": {
    "name": "ipython",
    "version": 3
   },
   "file_extension": ".py",
   "mimetype": "text/x-python",
   "name": "python",
   "nbconvert_exporter": "python",
   "pygments_lexer": "ipython3",
   "version": "3.9.13"
  },
  "orig_nbformat": 4,
  "vscode": {
   "interpreter": {
    "hash": "9704d6b1605ff267b1f1e8c176976a4f4a7804210d026da8d47bad2c9ac458ea"
   }
  }
 },
 "nbformat": 4,
 "nbformat_minor": 2
}
