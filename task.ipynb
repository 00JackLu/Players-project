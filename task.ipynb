{
 "cells": [
  {
   "cell_type": "code",
   "execution_count": 1,
   "metadata": {},
   "outputs": [],
   "source": [
    "import re\n",
    "from bs4 import BeautifulSoup\n",
    "import requests\n",
    "from lxml import etree"
   ]
  },
  {
   "cell_type": "code",
   "execution_count": 2,
   "metadata": {},
   "outputs": [],
   "source": [
    "url = \"https://terrikon.com/en/worldcup-2022\"\n",
    "headers = {\n",
    "    'User-Agent': 'Mozilla/5.0 (Windows NT 10.0; Win64; x64) AppleWebKit/537.36 (KHTML, like Gecko) Chrome/107.0.0.0 Safari/537.36'\n",
    "}\n",
    "r = requests.get(url,headers=headers)"
   ]
  },
  {
   "cell_type": "code",
   "execution_count": 3,
   "metadata": {},
   "outputs": [
    {
     "data": {
      "text/plain": [
       "['/en/football/teams/74',\n",
       " '/en/football/teams/531',\n",
       " '/en/football/teams/293',\n",
       " '/en/football/teams/1284',\n",
       " '/en/football/teams/878',\n",
       " '/en/football/teams/380',\n",
       " '/en/football/teams/133',\n",
       " '/en/football/teams/134',\n",
       " '/en/football/teams/228',\n",
       " '/en/football/teams/290',\n",
       " '/en/football/teams/263',\n",
       " '/en/football/teams/234',\n",
       " '/en/football/teams/260',\n",
       " '/en/football/teams/304',\n",
       " '/en/football/teams/320',\n",
       " '/en/football/teams/1281',\n",
       " '/en/football/teams/135',\n",
       " '/en/football/teams/289',\n",
       " '/en/football/teams/295',\n",
       " '/en/football/teams/301',\n",
       " '/en/football/teams/297',\n",
       " '/en/football/teams/553',\n",
       " '/en/football/teams/148',\n",
       " '/en/football/teams/349',\n",
       " '/en/football/teams/292',\n",
       " '/en/football/teams/1276',\n",
       " '/en/football/teams/131',\n",
       " '/en/football/teams/288',\n",
       " '/en/football/teams/275',\n",
       " '/en/football/teams/233',\n",
       " '/en/football/teams/296',\n",
       " '/en/football/teams/416']"
      ]
     },
     "execution_count": 3,
     "metadata": {},
     "output_type": "execute_result"
    }
   ],
   "source": [
    "soup = BeautifulSoup(r.text,\"html.parser\")\n",
    "links = soup.find_all('td',class_ = 'team')\n",
    "\n",
    "# print(re.compile(r'^<a.*?href=\"(.*)\">').findall(r.text))\n",
    "# print(re.compile(r'^<a.*?href=\"(.*)\">').findall(str(links)))\n",
    "# <td class=\"team\"><a href=\"/en/football/teams/133\">\n",
    "# <img src=\"//st.terrikon.com/i/flag/s/nl.gif\"/> Netherlands</a></td>\n",
    "# re.compile(r'<a.*?href=\"(.*)\">').findall(str(links))\n",
    "link_list = []\n",
    "for link in links:  \n",
    "    if len(re.compile(r'<a.*?href=\"(.*)\">').findall(str(link))) > 0:\n",
    "        link_list.append((re.compile(r'<a.*?href=\"(.*)\">').findall(str(link)))[0])\n",
    "link_list = list(set(link_list))\n",
    "link_list"
   ]
  },
  {
   "cell_type": "code",
   "execution_count": 8,
   "metadata": {},
   "outputs": [
    {
     "name": "stdout",
     "output_type": "stream",
     "text": [
      "https://terrikon.com/en/football/teams/74/players\n",
      "https://terrikon.com/en/football/teams/531/players\n",
      "https://terrikon.com/en/football/teams/293/players\n",
      "https://terrikon.com/en/football/teams/1284/players\n",
      "https://terrikon.com/en/football/teams/878/players\n",
      "https://terrikon.com/en/football/teams/380/players\n",
      "https://terrikon.com/en/football/teams/133/players\n",
      "https://terrikon.com/en/football/teams/134/players\n",
      "https://terrikon.com/en/football/teams/228/players\n",
      "https://terrikon.com/en/football/teams/290/players\n",
      "https://terrikon.com/en/football/teams/263/players\n",
      "https://terrikon.com/en/football/teams/234/players\n",
      "https://terrikon.com/en/football/teams/260/players\n",
      "https://terrikon.com/en/football/teams/304/players\n",
      "https://terrikon.com/en/football/teams/320/players\n",
      "https://terrikon.com/en/football/teams/1281/players\n",
      "https://terrikon.com/en/football/teams/135/players\n",
      "https://terrikon.com/en/football/teams/289/players\n",
      "https://terrikon.com/en/football/teams/295/players\n",
      "https://terrikon.com/en/football/teams/301/players\n",
      "https://terrikon.com/en/football/teams/297/players\n",
      "https://terrikon.com/en/football/teams/553/players\n",
      "https://terrikon.com/en/football/teams/148/players\n",
      "https://terrikon.com/en/football/teams/349/players\n",
      "https://terrikon.com/en/football/teams/292/players\n",
      "https://terrikon.com/en/football/teams/1276/players\n",
      "https://terrikon.com/en/football/teams/131/players\n",
      "https://terrikon.com/en/football/teams/288/players\n",
      "https://terrikon.com/en/football/teams/275/players\n",
      "https://terrikon.com/en/football/teams/233/players\n",
      "https://terrikon.com/en/football/teams/296/players\n",
      "https://terrikon.com/en/football/teams/416/players\n"
     ]
    },
    {
     "data": {
      "text/plain": [
       "780"
      ]
     },
     "execution_count": 8,
     "metadata": {},
     "output_type": "execute_result"
    }
   ],
   "source": [
    "players_list = []\n",
    "for link in link_list:\n",
    "    player_url = \"https://terrikon.com/en/football/teams/\" + re.findall(r\"\\d+\",link)[0] +\"/players\"\n",
    "    print(player_url)\n",
    "    page_text = requests.get(player_url,headers=headers).text\n",
    "    tree = etree.HTML(page_text)\n",
    "\n",
    "    trlist = tree.xpath('/html/body/div[2]/div[2]/div[3]/div[3]/table/tr')\n",
    "\n",
    "    for tr in trlist:\n",
    "        player = {}\n",
    "        player.setdefault(\"jersey_number\",tr.xpath('./td')[0].text) #1\n",
    "        if len(tr.xpath('./td[2]/img/@title')) >0:\n",
    "            player.setdefault(\"nationality_name\",tr.xpath('./td[2]/img/@title')[0]) #Англия\n",
    "            temp = tr.xpath('./td[2]/img/@title')[0]\n",
    "        else:\n",
    "            player.setdefault(\"nationality_name\",temp)\n",
    "        player.setdefault(\"name\",tr.xpath('./td[3]/a')[0].text) #Джордан Пикфорд\n",
    "        player.setdefault(\"birth\",tr.xpath('./td')[4].text)\n",
    "        player.setdefault(\"high\",tr.xpath('./td')[5].text)\n",
    "        player.setdefault(\"weight\",tr.xpath('./td')[6].text)\n",
    "        players_list.append(player)\n",
    "len(players_list)"
   ]
  },
  {
   "cell_type": "code",
   "execution_count": 9,
   "metadata": {},
   "outputs": [
    {
     "data": {
      "text/plain": [
       "{'jersey_number': '16',\n",
       " 'nationality_name': 'Denmark',\n",
       " 'name': 'Oliver Christensen',\n",
       " 'birth': '22.03.1999',\n",
       " 'high': '190',\n",
       " 'weight': '82'}"
      ]
     },
     "execution_count": 9,
     "metadata": {},
     "output_type": "execute_result"
    }
   ],
   "source": [
    "players_list[1]"
   ]
  },
  {
   "cell_type": "code",
   "execution_count": 14,
   "metadata": {},
   "outputs": [],
   "source": [
    "import csv\n",
    "labels = list(player.keys())\n",
    "try:\n",
    "    with open('spider.csv', 'w', encoding='utf-8', newline='') as f:\n",
    "        writer = csv.DictWriter(f, fieldnames=labels)\n",
    "        writer.writeheader()\n",
    "        for elem in players_list:\n",
    "            writer.writerow(elem)\n",
    "except IOError:\n",
    "    print(\"I/O error\")"
   ]
  },
  {
   "cell_type": "code",
   "execution_count": 15,
   "metadata": {},
   "outputs": [
    {
     "data": {
      "text/html": [
       "<div>\n",
       "<style scoped>\n",
       "    .dataframe tbody tr th:only-of-type {\n",
       "        vertical-align: middle;\n",
       "    }\n",
       "\n",
       "    .dataframe tbody tr th {\n",
       "        vertical-align: top;\n",
       "    }\n",
       "\n",
       "    .dataframe thead th {\n",
       "        text-align: right;\n",
       "    }\n",
       "</style>\n",
       "<table border=\"1\" class=\"dataframe\">\n",
       "  <thead>\n",
       "    <tr style=\"text-align: right;\">\n",
       "      <th></th>\n",
       "      <th>jersey_number</th>\n",
       "      <th>nationality_name</th>\n",
       "      <th>name</th>\n",
       "      <th>birth</th>\n",
       "      <th>high</th>\n",
       "      <th>weight</th>\n",
       "    </tr>\n",
       "  </thead>\n",
       "  <tbody>\n",
       "    <tr>\n",
       "      <th>0</th>\n",
       "      <td>1</td>\n",
       "      <td>Denmark</td>\n",
       "      <td>Kasper Schmeichel</td>\n",
       "      <td>05.11.1986</td>\n",
       "      <td>185</td>\n",
       "      <td>76</td>\n",
       "    </tr>\n",
       "    <tr>\n",
       "      <th>1</th>\n",
       "      <td>16</td>\n",
       "      <td>Denmark</td>\n",
       "      <td>Oliver Christensen</td>\n",
       "      <td>22.03.1999</td>\n",
       "      <td>190</td>\n",
       "      <td>82</td>\n",
       "    </tr>\n",
       "    <tr>\n",
       "      <th>2</th>\n",
       "      <td>22</td>\n",
       "      <td>Denmark</td>\n",
       "      <td>Frederik Roennow</td>\n",
       "      <td>04.08.1992</td>\n",
       "      <td>190</td>\n",
       "      <td>79</td>\n",
       "    </tr>\n",
       "    <tr>\n",
       "      <th>3</th>\n",
       "      <td>2</td>\n",
       "      <td>Denmark</td>\n",
       "      <td>Joachim Andersen</td>\n",
       "      <td>31.05.1996</td>\n",
       "      <td>192</td>\n",
       "      <td>90</td>\n",
       "    </tr>\n",
       "    <tr>\n",
       "      <th>4</th>\n",
       "      <td>4</td>\n",
       "      <td>Denmark</td>\n",
       "      <td>Simon Kjaer</td>\n",
       "      <td>26.03.1989</td>\n",
       "      <td>190</td>\n",
       "      <td>86</td>\n",
       "    </tr>\n",
       "    <tr>\n",
       "      <th>...</th>\n",
       "      <td>...</td>\n",
       "      <td>...</td>\n",
       "      <td>...</td>\n",
       "      <td>...</td>\n",
       "      <td>...</td>\n",
       "      <td>...</td>\n",
       "    </tr>\n",
       "    <tr>\n",
       "      <th>775</th>\n",
       "      <td>23</td>\n",
       "      <td>Tunisia</td>\n",
       "      <td>Naïm Sliti</td>\n",
       "      <td>27.07.1992</td>\n",
       "      <td>173</td>\n",
       "      <td>75</td>\n",
       "    </tr>\n",
       "    <tr>\n",
       "      <th>776</th>\n",
       "      <td>25</td>\n",
       "      <td>Tunisia</td>\n",
       "      <td>Slimane A.</td>\n",
       "      <td>16.03.2001</td>\n",
       "      <td>188</td>\n",
       "      <td>80</td>\n",
       "    </tr>\n",
       "    <tr>\n",
       "      <th>777</th>\n",
       "      <td>9</td>\n",
       "      <td>Tunisia</td>\n",
       "      <td>Issam Jebali</td>\n",
       "      <td>25.12.1991</td>\n",
       "      <td>189</td>\n",
       "      <td>84</td>\n",
       "    </tr>\n",
       "    <tr>\n",
       "      <th>778</th>\n",
       "      <td>11</td>\n",
       "      <td>Tunisia</td>\n",
       "      <td>Khenissi</td>\n",
       "      <td>06.01.1992</td>\n",
       "      <td>183</td>\n",
       "      <td>0</td>\n",
       "    </tr>\n",
       "    <tr>\n",
       "      <th>779</th>\n",
       "      <td>19</td>\n",
       "      <td>Tunisia</td>\n",
       "      <td>Seifeddine Jaziri</td>\n",
       "      <td>11.02.1993</td>\n",
       "      <td>180</td>\n",
       "      <td>76</td>\n",
       "    </tr>\n",
       "  </tbody>\n",
       "</table>\n",
       "<p>780 rows × 6 columns</p>\n",
       "</div>"
      ],
      "text/plain": [
       "     jersey_number nationality_name                name       birth  high  \\\n",
       "0                1          Denmark   Kasper Schmeichel  05.11.1986   185   \n",
       "1               16          Denmark  Oliver Christensen  22.03.1999   190   \n",
       "2               22          Denmark    Frederik Roennow  04.08.1992   190   \n",
       "3                2          Denmark    Joachim Andersen  31.05.1996   192   \n",
       "4                4          Denmark         Simon Kjaer  26.03.1989   190   \n",
       "..             ...              ...                 ...         ...   ...   \n",
       "775             23          Tunisia          Naïm Sliti  27.07.1992   173   \n",
       "776             25          Tunisia          Slimane A.  16.03.2001   188   \n",
       "777              9          Tunisia        Issam Jebali  25.12.1991   189   \n",
       "778             11          Tunisia            Khenissi  06.01.1992   183   \n",
       "779             19          Tunisia   Seifeddine Jaziri  11.02.1993   180   \n",
       "\n",
       "     weight  \n",
       "0        76  \n",
       "1        82  \n",
       "2        79  \n",
       "3        90  \n",
       "4        86  \n",
       "..      ...  \n",
       "775      75  \n",
       "776      80  \n",
       "777      84  \n",
       "778       0  \n",
       "779      76  \n",
       "\n",
       "[780 rows x 6 columns]"
      ]
     },
     "execution_count": 15,
     "metadata": {},
     "output_type": "execute_result"
    }
   ],
   "source": [
    "import pandas as pd\n",
    "pd.read_csv('spider.csv')"
   ]
  },
  {
   "cell_type": "code",
   "execution_count": 12,
   "metadata": {},
   "outputs": [
    {
     "ename": "ModuleNotFoundError",
     "evalue": "No module named 'google'",
     "output_type": "error",
     "traceback": [
      "\u001b[0;31m---------------------------------------------------------------------------\u001b[0m",
      "\u001b[0;31mModuleNotFoundError\u001b[0m                       Traceback (most recent call last)",
      "\u001b[0;32m/tmp/ipykernel_16760/3142016261.py\u001b[0m in \u001b[0;36m<module>\u001b[0;34m\u001b[0m\n\u001b[0;32m----> 1\u001b[0;31m \u001b[0;32mfrom\u001b[0m \u001b[0mgoogle\u001b[0m\u001b[0;34m.\u001b[0m\u001b[0mcloud\u001b[0m \u001b[0;32mimport\u001b[0m \u001b[0mtranslate\u001b[0m\u001b[0;34m\u001b[0m\u001b[0;34m\u001b[0m\u001b[0m\n\u001b[0m\u001b[1;32m      2\u001b[0m \u001b[0;34m\u001b[0m\u001b[0m\n\u001b[1;32m      3\u001b[0m \u001b[0;31m# Instantiates a client\u001b[0m\u001b[0;34m\u001b[0m\u001b[0;34m\u001b[0m\u001b[0m\n\u001b[1;32m      4\u001b[0m \u001b[0mtranslate_client\u001b[0m \u001b[0;34m=\u001b[0m \u001b[0mtranslate\u001b[0m\u001b[0;34m.\u001b[0m\u001b[0mClient\u001b[0m\u001b[0;34m(\u001b[0m\u001b[0;34m)\u001b[0m\u001b[0;34m\u001b[0m\u001b[0;34m\u001b[0m\u001b[0m\n\u001b[1;32m      5\u001b[0m \u001b[0;34m\u001b[0m\u001b[0m\n",
      "\u001b[0;31mModuleNotFoundError\u001b[0m: No module named 'google'"
     ]
    }
   ],
   "source": [
    "from google.cloud import translate\n",
    "\n",
    "# Instantiates a client\n",
    "translate_client = translate.Client()\n",
    "\n",
    "# The text to translate\n",
    "text = u'Hello, world!'\n",
    "# The target language\n",
    "target = 'ru'\n",
    "\n",
    "# Translates some text into Russian\n",
    "translation = translate_client.translate(\n",
    "    text,\n",
    "    target_language=target)\n",
    "\n",
    "print(u'Text: {}'.format(text))\n",
    "print(u'Translation: {}'.format(translation['translatedText']))"
   ]
  }
 ],
 "metadata": {
  "kernelspec": {
   "display_name": "Python 3.9.12 ('base')",
   "language": "python",
   "name": "python3"
  },
  "language_info": {
   "codemirror_mode": {
    "name": "ipython",
    "version": 3
   },
   "file_extension": ".py",
   "mimetype": "text/x-python",
   "name": "python",
   "nbconvert_exporter": "python",
   "pygments_lexer": "ipython3",
   "version": "3.9.12"
  },
  "orig_nbformat": 4,
  "vscode": {
   "interpreter": {
    "hash": "91bb753b057673435fb8d6f6a083e6c818364728098c7ae050ca3a25357dd754"
   }
  }
 },
 "nbformat": 4,
 "nbformat_minor": 2
}
